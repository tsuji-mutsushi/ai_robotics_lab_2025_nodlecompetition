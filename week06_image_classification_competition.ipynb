{
  "nbformat": 4,
  "nbformat_minor": 0,
  "metadata": {
    "colab": {
      "provenance": [],
      "gpuType": "T4",
      "collapsed_sections": [
        "vdrfN9X7KH4O"
      ],
      "include_colab_link": true
    },
    "kernelspec": {
      "name": "python3",
      "display_name": "Python 3"
    },
    "language_info": {
      "name": "python"
    },
    "accelerator": "GPU"
  },
  "cells": [
    {
      "cell_type": "markdown",
      "metadata": {
        "id": "view-in-github",
        "colab_type": "text"
      },
      "source": [
        "<a href=\"https://colab.research.google.com/github/tsuji-mutsushi/ai_robotics_lab_2025_nodlecompetition/blob/main/week06_image_classification_competition.ipynb\" target=\"_parent\"><img src=\"https://colab.research.google.com/assets/colab-badge.svg\" alt=\"Open In Colab\"/></a>"
      ]
    },
    {
      "cell_type": "markdown",
      "metadata": {
        "id": "chn-ztb-9JoV"
      },
      "source": [
        "# Image Classification Competition"
      ]
    },
    {
      "cell_type": "markdown",
      "source": [
        "## About Competition\n",
        "\n",
        "\n"
      ],
      "metadata": {
        "id": "4D0z8-8iOUx9"
      }
    },
    {
      "cell_type": "markdown",
      "source": [
        "### Kaggle\n",
        "\n",
        "\n",
        "*   The competition is held on the Kaggle platform.\n",
        "*   Please join the competition from the invitation link shared on our Teams channel.\n",
        "\n"
      ],
      "metadata": {
        "id": "uFcgW7uZS8UV"
      }
    },
    {
      "cell_type": "markdown",
      "source": [
        "### Timeline\n",
        "*   2025/10/15 --- Start Competition\n",
        "*   2025/11/04 23:00 (Taiwan), 24:00 (Japan) --- Submission Deadline\n",
        "*   2025/11/05 1:00 (Taiwan), 2:00(Japan) --- Final Leaderboard Release"
      ],
      "metadata": {
        "id": "w93kiZrrQra5"
      }
    },
    {
      "cell_type": "markdown",
      "source": [
        "### Rules\n",
        "\n",
        "* One account per participant\n",
        "    * You should use only one Kaggle account for the competition. You cannot submit your solution from your multiple accounts.\n",
        "\n",
        "* DL Models\n",
        "    * You can use any deep learning models for the competition. **However, you cannot use pretrained weights.** You can still use popular models such as VGG and ResNet etc., but you need to train them from scratch.\n",
        "\n",
        "* Datasets\n",
        "    * You can only use the data in `dataset2025` for training your model. You cannot use the data other than `dataset2025`.\n",
        "\n",
        "* Computational Resources\n",
        "    * If you have access to GPU machines other than Google Colab, you can use them.\n",
        "\n",
        "* Submission Limits\n",
        "    * You can submit up to 10 prediction files per day. However, you need to select only one prediction file for the final score evaluation.\n",
        "\n",
        "* Leaderboard\n",
        "    * Before the submission deadline, the leaderboard shows the accuracies evaluated for 20% of the test dataset. The final results will be based on the other 80% of the test dataset.\n",
        "\n",
        "\n"
      ],
      "metadata": {
        "id": "C0lVL9LfQuey"
      }
    },
    {
      "cell_type": "markdown",
      "metadata": {
        "id": "VYw3uTxyQMFq"
      },
      "source": [
        "### GPU\n",
        "\n",
        "Please make sure your runtime type is set to GPU (cuda)."
      ]
    },
    {
      "cell_type": "code",
      "metadata": {
        "id": "LlOLjP7qjakr",
        "colab": {
          "base_uri": "https://localhost:8080/"
        },
        "outputId": "519cb5da-f520-4cfc-9969-53c033ea5a2e"
      },
      "source": [
        "import torch\n",
        "\n",
        "if torch.cuda.is_available():\n",
        "    device = \"cuda\"\n",
        "else:\n",
        "    device = \"cpu\"\n",
        "\n",
        "print(device)"
      ],
      "execution_count": 1,
      "outputs": [
        {
          "output_type": "stream",
          "name": "stdout",
          "text": [
            "cuda\n"
          ]
        }
      ]
    },
    {
      "cell_type": "code",
      "metadata": {
        "id": "uBE01BMv7DVI"
      },
      "source": [
        "import numpy as np\n",
        "import pandas as pd\n",
        "import matplotlib.pyplot as plt\n",
        "import seaborn as sns\n",
        "from tqdm.notebook import tqdm\n",
        "import os\n",
        "import gdown"
      ],
      "execution_count": 2,
      "outputs": []
    },
    {
      "cell_type": "markdown",
      "metadata": {
        "id": "VWFrZgRIWBB2"
      },
      "source": [
        "### Download Data\n",
        "\n",
        "Unlike the CIFAR10 dataset, the data we will be using here consists of regular JPEG files. Therefore, we need to prepare the dataset for PyTorch to process.\n",
        "\n",
        "The noodle image data can be downloaded using the code below. Once the download is complete, you will find `dataset2025.zip` in the Files tab on the left side."
      ]
    },
    {
      "cell_type": "code",
      "source": [
        "! gdown \"https://drive.google.com/uc?export=download&id=1uqLA7SoJRDmuABbPf_GwPDKakgMwNfnu\""
      ],
      "metadata": {
        "id": "2d2MZDAz4MLx",
        "colab": {
          "base_uri": "https://localhost:8080/"
        },
        "outputId": "6cb07e07-9b56-431f-a218-bc7acda0cccb"
      },
      "execution_count": 3,
      "outputs": [
        {
          "output_type": "stream",
          "name": "stdout",
          "text": [
            "Downloading...\n",
            "From (original): https://drive.google.com/uc?export=download&id=1uqLA7SoJRDmuABbPf_GwPDKakgMwNfnu\n",
            "From (redirected): https://drive.google.com/uc?export=download&id=1uqLA7SoJRDmuABbPf_GwPDKakgMwNfnu&confirm=t&uuid=65d39eb6-b116-4415-8c56-d66c28e4a8b3\n",
            "To: /content/dataset2025.zip\n",
            "100% 335M/335M [00:05<00:00, 56.9MB/s]\n"
          ]
        }
      ]
    },
    {
      "cell_type": "code",
      "source": [
        "! unzip dataset2025.zip  > /dev/null 2>&1"
      ],
      "metadata": {
        "id": "wK6sn2tyF5Nt",
        "collapsed": true
      },
      "execution_count": 4,
      "outputs": []
    },
    {
      "cell_type": "code",
      "source": [
        "for subdir in [\"train\", \"test\"]:\n",
        "    print(subdir)\n",
        "    subsubdirs = sorted(os.listdir(os.path.join(\"dataset2025\", subdir)))\n",
        "    for subsubdir in subsubdirs:\n",
        "        filenames = os.listdir(os.path.join(\"dataset2025\", subdir, subsubdir))\n",
        "        print(\"---\", subsubdir, \":\", len(filenames))\n",
        "        for filename in filenames[:5]:\n",
        "            print(\"    ---\", filename)"
      ],
      "metadata": {
        "id": "Nyu7NkM2GeuE",
        "colab": {
          "base_uri": "https://localhost:8080/"
        },
        "outputId": "49faca1f-404a-4442-ae92-7744f8f0dadf"
      },
      "execution_count": 5,
      "outputs": [
        {
          "output_type": "stream",
          "name": "stdout",
          "text": [
            "train\n",
            "--- 0_spaghetti : 1725\n",
            "    --- spaghetti_2542.jpg\n",
            "    --- spaghetti_1177.jpg\n",
            "    --- spaghetti_0335.jpg\n",
            "    --- spaghetti_0828.jpg\n",
            "    --- spaghetti_0466.jpg\n",
            "--- 1_ramen : 1799\n",
            "    --- ramen_1529.jpg\n",
            "    --- ramen_0646.jpg\n",
            "    --- ramen_1456.jpg\n",
            "    --- ramen_1047.jpg\n",
            "    --- ramen_0685.jpg\n",
            "--- 2_udon : 1756\n",
            "    --- udon_1474.jpg\n",
            "    --- udon_1847.jpg\n",
            "    --- udon_0553.jpg\n",
            "    --- udon_0114.jpg\n",
            "    --- udon_1761.jpg\n",
            "test\n",
            "--- unknown : 4179\n",
            "    --- test_4139.jpg\n",
            "    --- test_3045.jpg\n",
            "    --- test_3248.jpg\n",
            "    --- test_2924.jpg\n",
            "    --- test_0757.jpg\n"
          ]
        }
      ]
    },
    {
      "cell_type": "markdown",
      "metadata": {
        "id": "87A0sMVqwmEz"
      },
      "source": [
        "### Create Dataset\n",
        "To create PyTorch datasets with this tree-structured directory format, we can use `torchvision.datasets.ImageFolder` class."
      ]
    },
    {
      "cell_type": "code",
      "metadata": {
        "id": "DaWvCMuyXB18",
        "colab": {
          "base_uri": "https://localhost:8080/"
        },
        "outputId": "59809e67-23f6-4e3a-c875-c5f132e3b29e"
      },
      "source": [
        "from torchvision.datasets import ImageFolder\n",
        "\n",
        "train_dataset = ImageFolder(root=\"dataset2025/train\")\n",
        "test_dataset = ImageFolder(root=\"dataset2025/test\")\n",
        "\n",
        "print(\"train_dataset:\", len(train_dataset))\n",
        "print(\"test_dataset:\", len(test_dataset))"
      ],
      "execution_count": 6,
      "outputs": [
        {
          "output_type": "stream",
          "name": "stdout",
          "text": [
            "train_dataset: 5280\n",
            "test_dataset: 4179\n"
          ]
        }
      ]
    },
    {
      "cell_type": "code",
      "metadata": {
        "id": "-BOrMy7mIPtI",
        "colab": {
          "base_uri": "https://localhost:8080/"
        },
        "outputId": "0199a0b1-9a09-4e36-d840-e04e8ad3cf2a"
      },
      "source": [
        "train_dataset.class_to_idx"
      ],
      "execution_count": 7,
      "outputs": [
        {
          "output_type": "execute_result",
          "data": {
            "text/plain": [
              "{'0_spaghetti': 0, '1_ramen': 1, '2_udon': 2}"
            ]
          },
          "metadata": {},
          "execution_count": 7
        }
      ]
    },
    {
      "cell_type": "code",
      "metadata": {
        "id": "DXIZd0CyXFUn",
        "colab": {
          "base_uri": "https://localhost:8080/"
        },
        "outputId": "f1ae562b-7a1f-4280-db18-51d9494fe2c6"
      },
      "source": [
        "classnames = {0:\"spaghetti\", 1:\"ramen\", 2:\"udon\"}\n",
        "classnames"
      ],
      "execution_count": 8,
      "outputs": [
        {
          "output_type": "execute_result",
          "data": {
            "text/plain": [
              "{0: 'spaghetti', 1: 'ramen', 2: 'udon'}"
            ]
          },
          "metadata": {},
          "execution_count": 8
        }
      ]
    },
    {
      "cell_type": "code",
      "metadata": {
        "id": "icRV9gLQJMBS",
        "colab": {
          "base_uri": "https://localhost:8080/"
        },
        "outputId": "b21edbf5-e8a9-41b7-a2eb-ff3003be8f0e"
      },
      "source": [
        "test_dataset.class_to_idx"
      ],
      "execution_count": 9,
      "outputs": [
        {
          "output_type": "execute_result",
          "data": {
            "text/plain": [
              "{'unknown': 0}"
            ]
          },
          "metadata": {},
          "execution_count": 9
        }
      ]
    },
    {
      "cell_type": "markdown",
      "source": [
        "# 正規化"
      ],
      "metadata": {
        "id": "nrFZ3UBF3xCM"
      }
    },
    {
      "cell_type": "code",
      "source": [
        "# --- 学習データの mean/std を算出する専用セル ---\n",
        "# 既存構造を崩さないため、\"train_dataset = ImageFolder(root=...)\" で定義した直後に置く\n",
        "# 計算は「v2.Resize((96,96)) → v2.ToTensor()」後のテンソルに対して行う\n",
        "\n",
        "from torchvision.datasets import ImageFolder\n",
        "from torchvision.transforms import v2\n",
        "from torch.utils.data import DataLoader\n",
        "import torch\n",
        "import math\n",
        "\n",
        "# 既存の画像サイズと一致させる（ノート内のtransformは 96x96 なのでそれに合わせる）\n",
        "_tmp_tf = v2.Compose([\n",
        "    v2.Resize((96, 96)),\n",
        "    v2.ToTensor()\n",
        "])\n",
        "\n",
        "# 正規化なしのテンソルで mean/std を出すため、一時的に別Datasetを作成（既存の変数名・流れは変更しない）\n",
        "_tmp_train = ImageFolder(root=\"dataset2025/train\", transform=_tmp_tf)\n",
        "\n",
        "# DataLoaderで全画像を走査してチャンネルごとの平均・分散を集計（バッチ単位で安全に）\n",
        "_tmp_loader = DataLoader(_tmp_train, batch_size=160, shuffle=False, num_workers=2)\n",
        "\n",
        "# 集計用\n",
        "n_pixels = 0\n",
        "sum_c = torch.zeros(3)\n",
        "sumsq_c = torch.zeros(3)\n",
        "\n",
        "for x, _ in _tmp_loader:\n",
        "    # x: [B, C, H, W] （ToTensor後は [0,1] のfloat）\n",
        "    b, c, h, w = x.shape\n",
        "    num = b * h * w\n",
        "    n_pixels += num\n",
        "    # バッチ内の各チャンネルの和・二乗和を加算\n",
        "    sum_c += x.sum(dim=(0, 2, 3))\n",
        "    sumsq_c += (x ** 2).sum(dim=(0, 2, 3))\n",
        "\n",
        "# 平均と標準偏差（母集団の式：std = sqrt(E[x^2] - (E[x])^2)）\n",
        "TRAIN_MEAN = (sum_c / n_pixels).tolist()\n",
        "TRAIN_STD = torch.sqrt(sumsq_c / n_pixels - (sum_c / n_pixels) ** 2).tolist()\n",
        "\n",
        "print(f\"[INFO] TRAIN_MEAN = {TRAIN_MEAN}\")\n",
        "print(f\"[INFO] TRAIN_STD  = {TRAIN_STD}\")\n",
        "\n",
        "# 以降のセル（transform定義セル）で v2.Normalize(TRAIN_MEAN, TRAIN_STD) を使います\n"
      ],
      "metadata": {
        "colab": {
          "base_uri": "https://localhost:8080/"
        },
        "id": "HeUy0PeY9BSV",
        "outputId": "40d3c18e-0334-47ec-f3e4-12eec24dc8e6"
      },
      "execution_count": 10,
      "outputs": [
        {
          "output_type": "stream",
          "name": "stderr",
          "text": [
            "/usr/local/lib/python3.12/dist-packages/torchvision/transforms/v2/_deprecated.py:42: UserWarning: The transform `ToTensor()` is deprecated and will be removed in a future release. Instead, please use `v2.Compose([v2.ToImage(), v2.ToDtype(torch.float32, scale=True)])`.Output is equivalent up to float precision.\n",
            "  warnings.warn(\n"
          ]
        },
        {
          "output_type": "stream",
          "name": "stdout",
          "text": [
            "[INFO] TRAIN_MEAN = [0.623147189617157, 0.531842052936554, 0.4104785621166229]\n",
            "[INFO] TRAIN_STD  = [0.27282580733299255, 0.27242353558540344, 0.2887946367263794]\n"
          ]
        }
      ]
    },
    {
      "cell_type": "markdown",
      "source": [
        "## Data Augumentation"
      ],
      "metadata": {
        "id": "oIWnSJVKtqf6"
      }
    },
    {
      "cell_type": "code",
      "source": [
        "# # --- データ拡張 強度パラメータ（数値を変えるだけで強度調整できます） ---\n",
        "\n",
        "# # 幾何変換（回転/並進/スケール/シア）\n",
        "# AUG_ROT_DEG   = 10                 # 回転角度（±）\n",
        "# AUG_TRANSLATE = (0.05, 0.05)       # 並進（幅・高さに対する比率）\n",
        "# AUG_SCALE     = (0.95, 1.05)       # スケール範囲（最小, 最大）\n",
        "# AUG_SHEAR     = 5                  # シア角度（±）\n",
        "\n",
        "# # 左右反転\n",
        "# AUG_HFLIP_P   = 0.5                # 左右反転の確率\n",
        "\n",
        "# # 色変換（ColorJitter）\n",
        "# AUG_JIT_B     = 0.20               # 明るさ\n",
        "# AUG_JIT_C     = 0.20               # コントラスト\n",
        "# AUG_JIT_S     = 0.20               # 彩度\n",
        "# AUG_JIT_H     = 0.10               # 色相\n",
        "\n",
        "# # RandomErasing（学習時のみ、正規化後に適用）\n",
        "# AUG_ERASE_P       = 0.25           # 適用確率（0なら無効）\n",
        "# AUG_ERASE_SCALE   = (0.02, 0.12)   # 消去領域の面積比（最小, 最大）\n",
        "# AUG_ERASE_RATIO   = (0.3, 3.3)     # 縦横比の範囲\n",
        "\n",
        "# =======================\n",
        "# ▼ 数値例（そのままコピペで強度変更できます）\n",
        "# 【弱め（小さな揺らぎ）】\n",
        "# AUG_ROT_DEG=5;  AUG_TRANSLATE=(0.02,0.02); AUG_SCALE=(0.98,1.02); AUG_SHEAR=2\n",
        "# AUG_HFLIP_P=0.3\n",
        "# AUG_JIT_B=0.10; AUG_JIT_C=0.10; AUG_JIT_S=0.10; AUG_JIT_H=0.05\n",
        "# AUG_ERASE_P=0.10; AUG_ERASE_SCALE=(0.01,0.06); AUG_ERASE_RATIO=(0.4,2.5)\n",
        "#\n",
        "#【中くらい（バランス重視）← 初期値】\n",
        "# AUG_ROT_DEG=10; AUG_TRANSLATE=(0.05,0.05); AUG_SCALE=(0.95,1.05); AUG_SHEAR=5\n",
        "# AUG_HFLIP_P=0.5\n",
        "# AUG_JIT_B=0.20; AUG_JIT_C=0.20; AUG_JIT_S=0.20; AUG_JIT_H=0.10\n",
        "# AUG_ERASE_P=0.25; AUG_ERASE_SCALE=(0.02,0.12); AUG_ERASE_RATIO=(0.3,3.3)\n",
        "#\n",
        "#【強め（過学習気味のとき）】\n",
        "AUG_ROT_DEG=15; AUG_TRANSLATE=(0.08,0.08); AUG_SCALE=(0.90,1.10); AUG_SHEAR=8\n",
        "AUG_HFLIP_P=0.6\n",
        "AUG_JIT_B=0.30; AUG_JIT_C=0.30; AUG_JIT_S=0.30; AUG_JIT_H=0.15\n",
        "AUG_ERASE_P=0.35; AUG_ERASE_SCALE=(0.02,0.18); AUG_ERASE_RATIO=(0.25,3.5)\n",
        "\n",
        "# ※ 無効化したい場合の目安：\n",
        "#   - 反転を止める：AUG_HFLIP_P = 0.0\n",
        "#   - 幾何変換を止める：AUG_ROT_DEG=0; AUG_TRANSLATE=(0.0,0.0); AUG_SCALE=(1.0,1.0); AUG_SHEAR=0\n",
        "#   - 色揺らぎを止める：AUG_JIT_* をすべて 0.0\n",
        "#   - Erasingを止める：AUG_ERASE_P = 0.0\n"
      ],
      "metadata": {
        "id": "iWtJh-2lIzQC"
      },
      "execution_count": 11,
      "outputs": []
    },
    {
      "cell_type": "code",
      "source": [
        "from torchvision.transforms import v2\n",
        "\n",
        "train_dataset = ImageFolder(root=\"dataset2025/train\",\n",
        "                            transform=v2.Compose([\n",
        "                                # --- 幾何系の拡張（順番は一般的な推奨例） ---\n",
        "                                v2.RandomHorizontalFlip(p=AUG_HFLIP_P),\n",
        "                                v2.RandomAffine(\n",
        "                                    degrees=AUG_ROT_DEG,\n",
        "                                    translate=AUG_TRANSLATE,\n",
        "                                    scale=AUG_SCALE,\n",
        "                                    shear=AUG_SHEAR\n",
        "                                ),\n",
        "                                # --- 色系の拡張 ---\n",
        "                                v2.ColorJitter(\n",
        "                                    brightness=AUG_JIT_B,\n",
        "                                    contrast=AUG_JIT_C,\n",
        "                                    saturation=AUG_JIT_S,\n",
        "                                    hue=AUG_JIT_H\n",
        "                                ),\n",
        "                                # --- 既存のサイズ変換・テンソル化 ---\n",
        "                                v2.Resize((96, 96)),\n",
        "                                v2.ToTensor(),\n",
        "                                # --- 正規化（自前データのmean/stdを使用） ---\n",
        "                                v2.Normalize(mean=TRAIN_MEAN, std=TRAIN_STD),\n",
        "                                # --- RandomErasing（テンソル化・正規化後が推奨） ---\n",
        "                                v2.RandomErasing(\n",
        "                                    p=AUG_ERASE_P,\n",
        "                                    scale=AUG_ERASE_SCALE,\n",
        "                                    ratio=AUG_ERASE_RATIO,\n",
        "                                    value='random'  # 正規化済みでもOK（内部で自動処理）\n",
        "                                ),\n",
        "                            ])\n",
        ")\n",
        "\n",
        "test_dataset = ImageFolder(root=\"dataset2025/test\",\n",
        "                           transform=v2.Compose([\n",
        "                                v2.Resize((96, 96)),\n",
        "                                v2.ToTensor(),\n",
        "                                v2.Normalize(mean=TRAIN_MEAN, std=TRAIN_STD)  # ★ 学習データ由来の統計で正規化\n",
        "                           ])\n",
        ")\n"
      ],
      "metadata": {
        "id": "zyMOcByWI85e"
      },
      "execution_count": 12,
      "outputs": []
    },
    {
      "cell_type": "code",
      "metadata": {
        "id": "g2UH3rN5XdFf",
        "colab": {
          "base_uri": "https://localhost:8080/"
        },
        "outputId": "b15ad67d-0258-41cb-dfb0-c5177db5303e"
      },
      "source": [
        "from torch.utils.data import random_split\n",
        "\n",
        "n_samples = len(train_dataset)\n",
        "train_size = int(n_samples * 0.9)    # 50% will be training data\n",
        "valid_size = n_samples - train_size  # 50% will be validation data\n",
        "\n",
        "train_dataset, valid_dataset = random_split(train_dataset, [train_size, valid_size])\n",
        "\n",
        "print(\"train data\", len(train_dataset))\n",
        "print(\"validation data\", len(valid_dataset))"
      ],
      "execution_count": 13,
      "outputs": [
        {
          "output_type": "stream",
          "name": "stdout",
          "text": [
            "train data 4752\n",
            "validation data 528\n"
          ]
        }
      ]
    },
    {
      "cell_type": "markdown",
      "metadata": {
        "id": "qmaAJzuZaDTz"
      },
      "source": [
        "### DataLoader\n",
        "\n",
        "Then we create the dataloaders for the training, validation and test dataset."
      ]
    },
    {
      "cell_type": "code",
      "metadata": {
        "id": "oBhdXTsSXeze"
      },
      "source": [
        "from torch.utils.data import DataLoader\n",
        "\n",
        "train_loader = DataLoader(train_dataset, batch_size=352, shuffle=True, num_workers=2)\n",
        "valid_loader = DataLoader(valid_dataset, batch_size=352, shuffle=False, num_workers=2)\n",
        "test_loader = DataLoader(test_dataset, batch_size=352, shuffle=False, num_workers=2)"
      ],
      "execution_count": 14,
      "outputs": []
    },
    {
      "cell_type": "markdown",
      "metadata": {
        "id": "QhtajLTTNmSx"
      },
      "source": [
        "## Model Building"
      ]
    },
    {
      "cell_type": "markdown",
      "source": [
        "### SimpleCNN"
      ],
      "metadata": {
        "id": "gTfrTzoXwKDP"
      }
    },
    {
      "cell_type": "code",
      "source": [
        "import torch\n",
        "import torch.nn as nn\n",
        "\n",
        "# 軽量CNNモデル（96x96画像用に最適化）\n",
        "class CompactCNN(nn.Module):\n",
        "    def __init__(self, num_classes=3):\n",
        "        super(CompactCNN, self).__init__()\n",
        "\n",
        "        # 特徴抽出部\n",
        "        self.features = nn.Sequential(\n",
        "            # Block 1: 96x96 -> 48x48\n",
        "            nn.Conv2d(3, 32, kernel_size=3, padding=1),\n",
        "            nn.BatchNorm2d(32),\n",
        "            nn.ReLU(inplace=True),\n",
        "            nn.Conv2d(32, 32, kernel_size=3, padding=1),\n",
        "            nn.BatchNorm2d(32),\n",
        "            nn.ReLU(inplace=True),\n",
        "            nn.MaxPool2d(2, 2),\n",
        "            nn.Dropout2d(0.1),\n",
        "\n",
        "            # Block 2: 48x48 -> 24x24\n",
        "            nn.Conv2d(32, 64, kernel_size=3, padding=1),\n",
        "            nn.BatchNorm2d(64),\n",
        "            nn.ReLU(inplace=True),\n",
        "            nn.Conv2d(64, 64, kernel_size=3, padding=1),\n",
        "            nn.BatchNorm2d(64),\n",
        "            nn.ReLU(inplace=True),\n",
        "            nn.MaxPool2d(2, 2),\n",
        "            nn.Dropout2d(0.2),\n",
        "\n",
        "            # Block 3: 24x24 -> 12x12\n",
        "            nn.Conv2d(64, 128, kernel_size=3, padding=1),\n",
        "            nn.BatchNorm2d(128),\n",
        "            nn.ReLU(inplace=True),\n",
        "            nn.Conv2d(128, 128, kernel_size=3, padding=1),\n",
        "            nn.BatchNorm2d(128),\n",
        "            nn.ReLU(inplace=True),\n",
        "            nn.MaxPool2d(2, 2),\n",
        "            nn.Dropout2d(0.2),\n",
        "        )\n",
        "\n",
        "        # Global Average Pooling\n",
        "        self.gap = nn.AdaptiveAvgPool2d((1, 1))\n",
        "\n",
        "        # 分類部\n",
        "        self.classifier = nn.Sequential(\n",
        "            nn.Flatten(),\n",
        "            nn.Linear(128, 64),\n",
        "            nn.ReLU(inplace=True),\n",
        "            nn.Dropout(0.2),\n",
        "            nn.Linear(64, num_classes)\n",
        "        )\n",
        "\n",
        "    def forward(self, x):\n",
        "        x = self.features(x)\n",
        "        x = self.gap(x)\n",
        "        x = self.classifier(x)\n",
        "        return x\n",
        "\n",
        "model = CompactCNN(num_classes=3).to(device)"
      ],
      "metadata": {
        "id": "OCpcXsYLO6-E"
      },
      "execution_count": 15,
      "outputs": []
    },
    {
      "cell_type": "markdown",
      "metadata": {
        "id": "aAlXGXFDRsjw"
      },
      "source": [
        "## Training"
      ]
    },
    {
      "cell_type": "code",
      "source": [
        "!pip install schedulefree"
      ],
      "metadata": {
        "colab": {
          "base_uri": "https://localhost:8080/"
        },
        "id": "5svOl6UoKeJh",
        "outputId": "91c6231e-8430-477b-ad10-c8df58c00375"
      },
      "execution_count": 16,
      "outputs": [
        {
          "output_type": "stream",
          "name": "stdout",
          "text": [
            "Collecting schedulefree\n",
            "  Downloading schedulefree-1.4.1-py3-none-any.whl.metadata (9.7 kB)\n",
            "Requirement already satisfied: torch in /usr/local/lib/python3.12/dist-packages (from schedulefree) (2.8.0+cu126)\n",
            "Requirement already satisfied: typing-extensions in /usr/local/lib/python3.12/dist-packages (from schedulefree) (4.15.0)\n",
            "Requirement already satisfied: filelock in /usr/local/lib/python3.12/dist-packages (from torch->schedulefree) (3.20.0)\n",
            "Requirement already satisfied: setuptools in /usr/local/lib/python3.12/dist-packages (from torch->schedulefree) (75.2.0)\n",
            "Requirement already satisfied: sympy>=1.13.3 in /usr/local/lib/python3.12/dist-packages (from torch->schedulefree) (1.13.3)\n",
            "Requirement already satisfied: networkx in /usr/local/lib/python3.12/dist-packages (from torch->schedulefree) (3.5)\n",
            "Requirement already satisfied: jinja2 in /usr/local/lib/python3.12/dist-packages (from torch->schedulefree) (3.1.6)\n",
            "Requirement already satisfied: fsspec in /usr/local/lib/python3.12/dist-packages (from torch->schedulefree) (2025.3.0)\n",
            "Requirement already satisfied: nvidia-cuda-nvrtc-cu12==12.6.77 in /usr/local/lib/python3.12/dist-packages (from torch->schedulefree) (12.6.77)\n",
            "Requirement already satisfied: nvidia-cuda-runtime-cu12==12.6.77 in /usr/local/lib/python3.12/dist-packages (from torch->schedulefree) (12.6.77)\n",
            "Requirement already satisfied: nvidia-cuda-cupti-cu12==12.6.80 in /usr/local/lib/python3.12/dist-packages (from torch->schedulefree) (12.6.80)\n",
            "Requirement already satisfied: nvidia-cudnn-cu12==9.10.2.21 in /usr/local/lib/python3.12/dist-packages (from torch->schedulefree) (9.10.2.21)\n",
            "Requirement already satisfied: nvidia-cublas-cu12==12.6.4.1 in /usr/local/lib/python3.12/dist-packages (from torch->schedulefree) (12.6.4.1)\n",
            "Requirement already satisfied: nvidia-cufft-cu12==11.3.0.4 in /usr/local/lib/python3.12/dist-packages (from torch->schedulefree) (11.3.0.4)\n",
            "Requirement already satisfied: nvidia-curand-cu12==10.3.7.77 in /usr/local/lib/python3.12/dist-packages (from torch->schedulefree) (10.3.7.77)\n",
            "Requirement already satisfied: nvidia-cusolver-cu12==11.7.1.2 in /usr/local/lib/python3.12/dist-packages (from torch->schedulefree) (11.7.1.2)\n",
            "Requirement already satisfied: nvidia-cusparse-cu12==12.5.4.2 in /usr/local/lib/python3.12/dist-packages (from torch->schedulefree) (12.5.4.2)\n",
            "Requirement already satisfied: nvidia-cusparselt-cu12==0.7.1 in /usr/local/lib/python3.12/dist-packages (from torch->schedulefree) (0.7.1)\n",
            "Requirement already satisfied: nvidia-nccl-cu12==2.27.3 in /usr/local/lib/python3.12/dist-packages (from torch->schedulefree) (2.27.3)\n",
            "Requirement already satisfied: nvidia-nvtx-cu12==12.6.77 in /usr/local/lib/python3.12/dist-packages (from torch->schedulefree) (12.6.77)\n",
            "Requirement already satisfied: nvidia-nvjitlink-cu12==12.6.85 in /usr/local/lib/python3.12/dist-packages (from torch->schedulefree) (12.6.85)\n",
            "Requirement already satisfied: nvidia-cufile-cu12==1.11.1.6 in /usr/local/lib/python3.12/dist-packages (from torch->schedulefree) (1.11.1.6)\n",
            "Requirement already satisfied: triton==3.4.0 in /usr/local/lib/python3.12/dist-packages (from torch->schedulefree) (3.4.0)\n",
            "Requirement already satisfied: mpmath<1.4,>=1.1.0 in /usr/local/lib/python3.12/dist-packages (from sympy>=1.13.3->torch->schedulefree) (1.3.0)\n",
            "Requirement already satisfied: MarkupSafe>=2.0 in /usr/local/lib/python3.12/dist-packages (from jinja2->torch->schedulefree) (3.0.3)\n",
            "Downloading schedulefree-1.4.1-py3-none-any.whl (55 kB)\n",
            "\u001b[2K   \u001b[90m━━━━━━━━━━━━━━━━━━━━━━━━━━━━━━━━━━━━━━━━\u001b[0m \u001b[32m55.1/55.1 kB\u001b[0m \u001b[31m3.0 MB/s\u001b[0m eta \u001b[36m0:00:00\u001b[0m\n",
            "\u001b[?25hInstalling collected packages: schedulefree\n",
            "Successfully installed schedulefree-1.4.1\n"
          ]
        }
      ]
    },
    {
      "cell_type": "code",
      "source": [
        "from schedulefree import RAdamScheduleFree"
      ],
      "metadata": {
        "id": "hZ-6e-Sy3AmU"
      },
      "execution_count": 17,
      "outputs": []
    },
    {
      "cell_type": "markdown",
      "metadata": {
        "id": "MCzH5589Rn-7"
      },
      "source": [
        "### Training Loop\n",
        "\n",
        "\n",
        "\n",
        "\n",
        "\n"
      ]
    },
    {
      "cell_type": "code",
      "source": [
        "from torch.cuda.amp import autocast, GradScaler\n",
        "from tqdm import tqdm\n",
        "\n",
        "# AMPの設定\n",
        "use_amp = True  # AMPを使用するかどうか\n",
        "scaler = GradScaler() if use_amp else None\n",
        "\n",
        "loss_func = nn.CrossEntropyLoss()\n",
        "optimizer = RAdamScheduleFree(model.parameters(), lr=0.1, weight_decay=4e-4)\n",
        "epochs = 60\n",
        "\n",
        "# メトリクス保存用リスト\n",
        "train_loss_list = []\n",
        "train_accuracy_list = []\n",
        "valid_loss_list = []\n",
        "valid_accuracy_list = []\n",
        "\n",
        "# Google Driveへのチェックポイント保存パス（必要に応じて変更）\n",
        "checkpoint_path = \"/content/drive/MyDrive/model_checkpoints\"\n",
        "from google.colab import drive\n",
        "drive.mount('/content/drive')"
      ],
      "metadata": {
        "colab": {
          "base_uri": "https://localhost:8080/"
        },
        "id": "ZwlB9BVOhfny",
        "outputId": "86fa5878-7ca5-49c0-c0ce-5092243f6c05"
      },
      "execution_count": 18,
      "outputs": [
        {
          "output_type": "stream",
          "name": "stderr",
          "text": [
            "/tmp/ipython-input-2336995850.py:6: FutureWarning: `torch.cuda.amp.GradScaler(args...)` is deprecated. Please use `torch.amp.GradScaler('cuda', args...)` instead.\n",
            "  scaler = GradScaler() if use_amp else None\n"
          ]
        }
      ]
    },
    {
      "cell_type": "code",
      "source": [
        "# === 最新チェックポイントを探してロード → 続きから学習できるようにセットアップ ===\n",
        "import os, re, glob, torch\n",
        "\n",
        "# 追加で学習したいエポック数（例：さらに10epoch）\n",
        "additional_epochs = 30\n",
        "\n",
        "# --- 最新ファイルを自動検出（checkpoint_epoch_XX.pth の最大XXを選ぶ） ---\n",
        "ckpt_files = glob.glob(os.path.join(checkpoint_path, \"checkpoint_epoch_*.pth\"))\n",
        "if len(ckpt_files) == 0:\n",
        "    raise FileNotFoundError(\"チェックポイントが見つかりません。まずは通常学習を一度完了させてください。\")\n",
        "\n",
        "def _extract_epoch(fname: str) -> int:\n",
        "    m = re.search(r\"checkpoint_epoch_(\\d+)\\.pth\", os.path.basename(fname))\n",
        "    return int(m.group(1)) if m else -1\n",
        "\n",
        "ckpt_files_sorted = sorted(ckpt_files, key=_extract_epoch)\n",
        "latest_ckpt = ckpt_files_sorted[-1]\n",
        "last_epoch_num = _extract_epoch(latest_ckpt)\n",
        "\n",
        "print(f\"[INFO] 最新チェックポイント: {latest_ckpt} (epoch={last_epoch_num})\")\n",
        "\n",
        "# --- ロード（map_location=device でGPU/CPUに合わせる） ---\n",
        "ckpt = torch.load(latest_ckpt, map_location=device)\n",
        "\n",
        "# ★ モデルの状態を復元\n",
        "model.load_state_dict(ckpt[\"model_state_dict\"])\n",
        "\n",
        "# ★ Optimizerの状態を復元\n",
        "optimizer.load_state_dict(ckpt[\"optimizer_state_dict\"])\n",
        "\n",
        "# ★ AMP使用時はGradScalerも復元（保存がNoneの場合はスキップ）\n",
        "if use_amp and (ckpt.get(\"scaler_state_dict\", None) is not None):\n",
        "    scaler.load_state_dict(ckpt[\"scaler_state_dict\"])\n",
        "elif use_amp:\n",
        "    # 旧チェックポイント等でscalerが無い場合は初期化済みscalerをそのまま使う\n",
        "    pass\n",
        "\n",
        "# --- 再開エポックと総エポック数を上書き ---\n",
        "# 既存ループの for epoch in range(epochs) を活かすため、\n",
        "# これから回す「総エポック数」を last_epoch 以降に伸ばす。\n",
        "start_epoch = last_epoch_num            # 0始まり前提の保存だったため、この後のループは start から開始\n",
        "epochs = last_epoch_num + additional_epochs  # 既存変数 epochs を上書きして「合計の到達目標」にする\n",
        "\n",
        "print(f\"[RESUME] start_epoch={start_epoch}, これから {additional_epochs} epoch 追加学習 → 目標 epoch={epochs}\")\n",
        "model.to(device)  # 念のため"
      ],
      "metadata": {
        "id": "6AFr21g9P4pX",
        "outputId": "37a46a9d-3dad-46b5-fb75-30f113c37af7",
        "colab": {
          "base_uri": "https://localhost:8080/"
        }
      },
      "execution_count": 28,
      "outputs": [
        {
          "output_type": "stream",
          "name": "stdout",
          "text": [
            "[INFO] 最新チェックポイント: /content/drive/MyDrive/model_checkpoints/checkpoint_epoch_60.pth (epoch=60)\n",
            "[RESUME] start_epoch=60, これから 30 epoch 追加学習 → 目標 epoch=90\n"
          ]
        },
        {
          "output_type": "execute_result",
          "data": {
            "text/plain": [
              "CompactCNN(\n",
              "  (features): Sequential(\n",
              "    (0): Conv2d(3, 32, kernel_size=(3, 3), stride=(1, 1), padding=(1, 1))\n",
              "    (1): BatchNorm2d(32, eps=1e-05, momentum=0.1, affine=True, track_running_stats=True)\n",
              "    (2): ReLU(inplace=True)\n",
              "    (3): Conv2d(32, 32, kernel_size=(3, 3), stride=(1, 1), padding=(1, 1))\n",
              "    (4): BatchNorm2d(32, eps=1e-05, momentum=0.1, affine=True, track_running_stats=True)\n",
              "    (5): ReLU(inplace=True)\n",
              "    (6): MaxPool2d(kernel_size=2, stride=2, padding=0, dilation=1, ceil_mode=False)\n",
              "    (7): Dropout2d(p=0.1, inplace=False)\n",
              "    (8): Conv2d(32, 64, kernel_size=(3, 3), stride=(1, 1), padding=(1, 1))\n",
              "    (9): BatchNorm2d(64, eps=1e-05, momentum=0.1, affine=True, track_running_stats=True)\n",
              "    (10): ReLU(inplace=True)\n",
              "    (11): Conv2d(64, 64, kernel_size=(3, 3), stride=(1, 1), padding=(1, 1))\n",
              "    (12): BatchNorm2d(64, eps=1e-05, momentum=0.1, affine=True, track_running_stats=True)\n",
              "    (13): ReLU(inplace=True)\n",
              "    (14): MaxPool2d(kernel_size=2, stride=2, padding=0, dilation=1, ceil_mode=False)\n",
              "    (15): Dropout2d(p=0.2, inplace=False)\n",
              "    (16): Conv2d(64, 128, kernel_size=(3, 3), stride=(1, 1), padding=(1, 1))\n",
              "    (17): BatchNorm2d(128, eps=1e-05, momentum=0.1, affine=True, track_running_stats=True)\n",
              "    (18): ReLU(inplace=True)\n",
              "    (19): Conv2d(128, 128, kernel_size=(3, 3), stride=(1, 1), padding=(1, 1))\n",
              "    (20): BatchNorm2d(128, eps=1e-05, momentum=0.1, affine=True, track_running_stats=True)\n",
              "    (21): ReLU(inplace=True)\n",
              "    (22): MaxPool2d(kernel_size=2, stride=2, padding=0, dilation=1, ceil_mode=False)\n",
              "    (23): Dropout2d(p=0.2, inplace=False)\n",
              "  )\n",
              "  (gap): AdaptiveAvgPool2d(output_size=(1, 1))\n",
              "  (classifier): Sequential(\n",
              "    (0): Flatten(start_dim=1, end_dim=-1)\n",
              "    (1): Linear(in_features=128, out_features=64, bias=True)\n",
              "    (2): ReLU(inplace=True)\n",
              "    (3): Dropout(p=0.2, inplace=False)\n",
              "    (4): Linear(in_features=64, out_features=3, bias=True)\n",
              "  )\n",
              ")"
            ]
          },
          "metadata": {},
          "execution_count": 28
        }
      ]
    },
    {
      "cell_type": "code",
      "metadata": {
        "id": "B9ONh4giaSQD",
        "colab": {
          "base_uri": "https://localhost:8080/"
        },
        "outputId": "02de26c0-9e9a-4292-fe9b-f01766810920"
      },
      "source": [
        "for epoch in range(start_epoch, epochs):  # ★ 再開点から最終目標まで回す\n",
        "    print(f\"Epoch {epoch+1}/{epochs}\")\n",
        "\n",
        "    # メトリクス初期化\n",
        "    train_correct_count = 0\n",
        "    train_accuracy = 0\n",
        "    train_loss = 0\n",
        "    valid_correct_count = 0\n",
        "    valid_accuracy = 0\n",
        "    valid_loss = 0\n",
        "\n",
        "    #--- Training Phase ---#\n",
        "    model.train()\n",
        "    optimizer.train()\n",
        "\n",
        "    pbar = tqdm(train_loader)\n",
        "    pbar.set_description(\"Train\")\n",
        "\n",
        "    for x_batch, y_batch in pbar:\n",
        "        x_batch = x_batch.to(device)\n",
        "        y_batch = y_batch.to(device)\n",
        "\n",
        "        optimizer.zero_grad()\n",
        "\n",
        "        # AMPを使用した順伝播と損失計算\n",
        "        if use_amp:\n",
        "            with autocast():\n",
        "                p_batch = model(x_batch)\n",
        "                loss = loss_func(p_batch, y_batch)\n",
        "\n",
        "            # スケールされた勾配計算とパラメータ更新\n",
        "            scaler.scale(loss).backward()\n",
        "            scaler.step(optimizer)\n",
        "            scaler.update()\n",
        "        else:\n",
        "            p_batch = model(x_batch)\n",
        "            loss = loss_func(p_batch, y_batch)\n",
        "            loss.backward()\n",
        "            optimizer.step()\n",
        "\n",
        "        train_loss += loss.item()\n",
        "        p_batch_label = torch.argmax(p_batch, dim=1)\n",
        "        train_correct_count += (p_batch_label == y_batch).sum()\n",
        "\n",
        "        pbar.set_postfix({\n",
        "            \"accuracy\": f\"{(p_batch_label == y_batch).sum()/len(x_batch):.4f}\",\n",
        "            \"loss\": f\"{loss.item():.4f}\"\n",
        "        })\n",
        "\n",
        "    #--- Evaluation Phase ---#\n",
        "    with torch.no_grad():\n",
        "        model.eval()\n",
        "        optimizer.eval()\n",
        "\n",
        "        pbar = tqdm(valid_loader)\n",
        "        pbar.set_description(\"Valid\")\n",
        "\n",
        "        for x_batch, y_batch in pbar:\n",
        "            x_batch = x_batch.to(device)\n",
        "            y_batch = y_batch.to(device)\n",
        "\n",
        "            # 評価時もAMPを使用（推論高速化）\n",
        "            if use_amp:\n",
        "                with autocast():\n",
        "                    p_batch = model(x_batch)\n",
        "                    loss = loss_func(p_batch, y_batch)\n",
        "            else:\n",
        "                p_batch = model(x_batch)\n",
        "                loss = loss_func(p_batch, y_batch)\n",
        "\n",
        "            valid_loss += loss.item()\n",
        "            p_batch_label = torch.argmax(p_batch, dim=1)\n",
        "            valid_correct_count += (p_batch_label == y_batch).sum()\n",
        "\n",
        "            pbar.set_postfix({\n",
        "                \"accuracy\": f\"{(p_batch_label == y_batch).sum()/len(x_batch):.4f}\",\n",
        "                \"loss\": f\"{loss.item():.4f}\"\n",
        "            })\n",
        "\n",
        "    # メトリクス計算\n",
        "    train_accuracy = train_correct_count.item() / len(train_dataset)\n",
        "    valid_accuracy = valid_correct_count.item() / len(valid_dataset)\n",
        "    train_loss = train_loss / len(train_loader)\n",
        "    valid_loss = valid_loss / len(valid_loader)\n",
        "\n",
        "    # 結果表示と保存\n",
        "    print(f\"Train: Accuracy={train_accuracy:.3f} Loss={train_loss:.3f}, \"\n",
        "          f\"Valid: Accuracy={valid_accuracy:.3f} Loss={valid_loss:.3f}\")\n",
        "\n",
        "    train_accuracy_list.append(train_accuracy)\n",
        "    train_loss_list.append(train_loss)\n",
        "    valid_accuracy_list.append(valid_accuracy)\n",
        "    valid_loss_list.append(valid_loss)\n",
        "\n",
        "    # Google Driveにチェックポイント保存（10エポックごと）\n",
        "    if (epoch + 1) % 20 == 0:\n",
        "        torch.save({\n",
        "            'epoch': epoch,\n",
        "            'model_state_dict': model.state_dict(),\n",
        "            'optimizer_state_dict': optimizer.state_dict(),\n",
        "            'scaler_state_dict': scaler.state_dict() if use_amp else None,\n",
        "            'train_loss': train_loss,\n",
        "            'valid_loss': valid_loss,\n",
        "        }, f\"{checkpoint_path}/checkpoint_epoch_{epoch+1}.pth\")\n",
        "        print(f\"チェックポイント保存: epoch {epoch+1}\")\n",
        "\n",
        "    print(\"---------------------\")\n",
        "print(\"学習完了！\")"
      ],
      "execution_count": 29,
      "outputs": [
        {
          "output_type": "stream",
          "name": "stdout",
          "text": [
            "Epoch 61/90\n"
          ]
        },
        {
          "output_type": "stream",
          "name": "stderr",
          "text": [
            "Train:   0%|          | 0/14 [00:00<?, ?it/s]/tmp/ipython-input-3564095117.py:27: FutureWarning: `torch.cuda.amp.autocast(args...)` is deprecated. Please use `torch.amp.autocast('cuda', args...)` instead.\n",
            "  with autocast():\n",
            "Train: 100%|██████████| 14/14 [00:37<00:00,  2.69s/it, accuracy=0.7841, loss=0.5435]\n",
            "Valid:   0%|          | 0/2 [00:00<?, ?it/s]/tmp/ipython-input-3564095117.py:64: FutureWarning: `torch.cuda.amp.autocast(args...)` is deprecated. Please use `torch.amp.autocast('cuda', args...)` instead.\n",
            "  with autocast():\n",
            "Valid: 100%|██████████| 2/2 [00:04<00:00,  2.09s/it, accuracy=0.8523, loss=0.3254]\n"
          ]
        },
        {
          "output_type": "stream",
          "name": "stdout",
          "text": [
            "Train: Accuracy=0.801 Loss=0.487, Valid: Accuracy=0.860 Loss=0.360\n",
            "---------------------\n",
            "Epoch 62/90\n"
          ]
        },
        {
          "output_type": "stream",
          "name": "stderr",
          "text": [
            "Train: 100%|██████████| 14/14 [00:38<00:00,  2.76s/it, accuracy=0.7898, loss=0.4922]\n",
            "Valid: 100%|██████████| 2/2 [00:04<00:00,  2.28s/it, accuracy=0.8977, loss=0.3036]\n"
          ]
        },
        {
          "output_type": "stream",
          "name": "stdout",
          "text": [
            "Train: Accuracy=0.812 Loss=0.481, Valid: Accuracy=0.871 Loss=0.339\n",
            "---------------------\n",
            "Epoch 63/90\n"
          ]
        },
        {
          "output_type": "stream",
          "name": "stderr",
          "text": [
            "Train: 100%|██████████| 14/14 [00:37<00:00,  2.71s/it, accuracy=0.8239, loss=0.4469]\n",
            "Valid: 100%|██████████| 2/2 [00:04<00:00,  2.10s/it, accuracy=0.8864, loss=0.2801]\n"
          ]
        },
        {
          "output_type": "stream",
          "name": "stdout",
          "text": [
            "Train: Accuracy=0.818 Loss=0.459, Valid: Accuracy=0.867 Loss=0.332\n",
            "---------------------\n",
            "Epoch 64/90\n"
          ]
        },
        {
          "output_type": "stream",
          "name": "stderr",
          "text": [
            "Train: 100%|██████████| 14/14 [00:37<00:00,  2.69s/it, accuracy=0.8125, loss=0.4415]\n",
            "Valid: 100%|██████████| 2/2 [00:04<00:00,  2.13s/it, accuracy=0.8693, loss=0.3232]\n"
          ]
        },
        {
          "output_type": "stream",
          "name": "stdout",
          "text": [
            "Train: Accuracy=0.818 Loss=0.464, Valid: Accuracy=0.841 Loss=0.373\n",
            "---------------------\n",
            "Epoch 65/90\n"
          ]
        },
        {
          "output_type": "stream",
          "name": "stderr",
          "text": [
            "Train: 100%|██████████| 14/14 [00:37<00:00,  2.70s/it, accuracy=0.8580, loss=0.4464]\n",
            "Valid: 100%|██████████| 2/2 [00:04<00:00,  2.08s/it, accuracy=0.8977, loss=0.2816]\n"
          ]
        },
        {
          "output_type": "stream",
          "name": "stdout",
          "text": [
            "Train: Accuracy=0.816 Loss=0.467, Valid: Accuracy=0.883 Loss=0.331\n",
            "---------------------\n",
            "Epoch 66/90\n"
          ]
        },
        {
          "output_type": "stream",
          "name": "stderr",
          "text": [
            "Train: 100%|██████████| 14/14 [00:37<00:00,  2.68s/it, accuracy=0.8239, loss=0.5585]\n",
            "Valid: 100%|██████████| 2/2 [00:04<00:00,  2.06s/it, accuracy=0.8807, loss=0.3217]\n"
          ]
        },
        {
          "output_type": "stream",
          "name": "stdout",
          "text": [
            "Train: Accuracy=0.824 Loss=0.454, Valid: Accuracy=0.862 Loss=0.349\n",
            "---------------------\n",
            "Epoch 67/90\n"
          ]
        },
        {
          "output_type": "stream",
          "name": "stderr",
          "text": [
            "Train: 100%|██████████| 14/14 [00:37<00:00,  2.66s/it, accuracy=0.8466, loss=0.4835]\n",
            "Valid: 100%|██████████| 2/2 [00:04<00:00,  2.07s/it, accuracy=0.8750, loss=0.3288]\n"
          ]
        },
        {
          "output_type": "stream",
          "name": "stdout",
          "text": [
            "Train: Accuracy=0.818 Loss=0.462, Valid: Accuracy=0.848 Loss=0.362\n",
            "---------------------\n",
            "Epoch 68/90\n"
          ]
        },
        {
          "output_type": "stream",
          "name": "stderr",
          "text": [
            "Train: 100%|██████████| 14/14 [00:36<00:00,  2.64s/it, accuracy=0.8239, loss=0.4646]\n",
            "Valid: 100%|██████████| 2/2 [00:04<00:00,  2.35s/it, accuracy=0.8864, loss=0.3062]\n"
          ]
        },
        {
          "output_type": "stream",
          "name": "stdout",
          "text": [
            "Train: Accuracy=0.824 Loss=0.445, Valid: Accuracy=0.850 Loss=0.362\n",
            "---------------------\n",
            "Epoch 69/90\n"
          ]
        },
        {
          "output_type": "stream",
          "name": "stderr",
          "text": [
            "Train: 100%|██████████| 14/14 [00:37<00:00,  2.65s/it, accuracy=0.8580, loss=0.3833]\n",
            "Valid: 100%|██████████| 2/2 [00:04<00:00,  2.45s/it, accuracy=0.8750, loss=0.3097]\n"
          ]
        },
        {
          "output_type": "stream",
          "name": "stdout",
          "text": [
            "Train: Accuracy=0.820 Loss=0.446, Valid: Accuracy=0.854 Loss=0.342\n",
            "---------------------\n",
            "Epoch 70/90\n"
          ]
        },
        {
          "output_type": "stream",
          "name": "stderr",
          "text": [
            "Train: 100%|██████████| 14/14 [00:36<00:00,  2.64s/it, accuracy=0.8011, loss=0.4782]\n",
            "Valid: 100%|██████████| 2/2 [00:05<00:00,  2.53s/it, accuracy=0.8864, loss=0.2966]\n"
          ]
        },
        {
          "output_type": "stream",
          "name": "stdout",
          "text": [
            "Train: Accuracy=0.832 Loss=0.434, Valid: Accuracy=0.850 Loss=0.331\n",
            "---------------------\n",
            "Epoch 71/90\n"
          ]
        },
        {
          "output_type": "stream",
          "name": "stderr",
          "text": [
            "Train: 100%|██████████| 14/14 [00:36<00:00,  2.61s/it, accuracy=0.8125, loss=0.4207]\n",
            "Valid: 100%|██████████| 2/2 [00:05<00:00,  2.75s/it, accuracy=0.8295, loss=0.3340]\n"
          ]
        },
        {
          "output_type": "stream",
          "name": "stdout",
          "text": [
            "Train: Accuracy=0.830 Loss=0.445, Valid: Accuracy=0.835 Loss=0.367\n",
            "---------------------\n",
            "Epoch 72/90\n"
          ]
        },
        {
          "output_type": "stream",
          "name": "stderr",
          "text": [
            "Train: 100%|██████████| 14/14 [00:36<00:00,  2.59s/it, accuracy=0.8239, loss=0.5046]\n",
            "Valid: 100%|██████████| 2/2 [00:05<00:00,  2.92s/it, accuracy=0.8750, loss=0.2982]\n"
          ]
        },
        {
          "output_type": "stream",
          "name": "stdout",
          "text": [
            "Train: Accuracy=0.831 Loss=0.444, Valid: Accuracy=0.854 Loss=0.354\n",
            "---------------------\n",
            "Epoch 73/90\n"
          ]
        },
        {
          "output_type": "stream",
          "name": "stderr",
          "text": [
            "Train: 100%|██████████| 14/14 [00:36<00:00,  2.60s/it, accuracy=0.8409, loss=0.3724]\n",
            "Valid: 100%|██████████| 2/2 [00:05<00:00,  2.87s/it, accuracy=0.9091, loss=0.2877]\n"
          ]
        },
        {
          "output_type": "stream",
          "name": "stdout",
          "text": [
            "Train: Accuracy=0.834 Loss=0.419, Valid: Accuracy=0.877 Loss=0.336\n",
            "---------------------\n",
            "Epoch 74/90\n"
          ]
        },
        {
          "output_type": "stream",
          "name": "stderr",
          "text": [
            "Train: 100%|██████████| 14/14 [00:36<00:00,  2.62s/it, accuracy=0.7557, loss=0.6582]\n",
            "Valid: 100%|██████████| 2/2 [00:05<00:00,  2.83s/it, accuracy=0.8920, loss=0.2868]\n"
          ]
        },
        {
          "output_type": "stream",
          "name": "stdout",
          "text": [
            "Train: Accuracy=0.827 Loss=0.462, Valid: Accuracy=0.862 Loss=0.341\n",
            "---------------------\n",
            "Epoch 75/90\n"
          ]
        },
        {
          "output_type": "stream",
          "name": "stderr",
          "text": [
            "Train: 100%|██████████| 14/14 [00:36<00:00,  2.61s/it, accuracy=0.8182, loss=0.4358]\n",
            "Valid: 100%|██████████| 2/2 [00:05<00:00,  2.78s/it, accuracy=0.8693, loss=0.3015]\n"
          ]
        },
        {
          "output_type": "stream",
          "name": "stdout",
          "text": [
            "Train: Accuracy=0.822 Loss=0.438, Valid: Accuracy=0.867 Loss=0.335\n",
            "---------------------\n",
            "Epoch 76/90\n"
          ]
        },
        {
          "output_type": "stream",
          "name": "stderr",
          "text": [
            "Train: 100%|██████████| 14/14 [00:36<00:00,  2.61s/it, accuracy=0.8523, loss=0.4105]\n",
            "Valid: 100%|██████████| 2/2 [00:05<00:00,  2.86s/it, accuracy=0.8693, loss=0.2860]\n"
          ]
        },
        {
          "output_type": "stream",
          "name": "stdout",
          "text": [
            "Train: Accuracy=0.846 Loss=0.415, Valid: Accuracy=0.871 Loss=0.324\n",
            "---------------------\n",
            "Epoch 77/90\n"
          ]
        },
        {
          "output_type": "stream",
          "name": "stderr",
          "text": [
            "Train: 100%|██████████| 14/14 [00:36<00:00,  2.61s/it, accuracy=0.8409, loss=0.3649]\n",
            "Valid: 100%|██████████| 2/2 [00:05<00:00,  2.83s/it, accuracy=0.8864, loss=0.2779]\n"
          ]
        },
        {
          "output_type": "stream",
          "name": "stdout",
          "text": [
            "Train: Accuracy=0.840 Loss=0.422, Valid: Accuracy=0.871 Loss=0.327\n",
            "---------------------\n",
            "Epoch 78/90\n"
          ]
        },
        {
          "output_type": "stream",
          "name": "stderr",
          "text": [
            "Train: 100%|██████████| 14/14 [00:36<00:00,  2.60s/it, accuracy=0.8239, loss=0.4398]\n",
            "Valid: 100%|██████████| 2/2 [00:05<00:00,  2.73s/it, accuracy=0.8977, loss=0.2824]\n"
          ]
        },
        {
          "output_type": "stream",
          "name": "stdout",
          "text": [
            "Train: Accuracy=0.845 Loss=0.409, Valid: Accuracy=0.873 Loss=0.316\n",
            "---------------------\n",
            "Epoch 79/90\n"
          ]
        },
        {
          "output_type": "stream",
          "name": "stderr",
          "text": [
            "Train: 100%|██████████| 14/14 [00:36<00:00,  2.61s/it, accuracy=0.8977, loss=0.2861]\n",
            "Valid: 100%|██████████| 2/2 [00:05<00:00,  2.73s/it, accuracy=0.8807, loss=0.2821]\n"
          ]
        },
        {
          "output_type": "stream",
          "name": "stdout",
          "text": [
            "Train: Accuracy=0.835 Loss=0.408, Valid: Accuracy=0.856 Loss=0.326\n",
            "---------------------\n",
            "Epoch 80/90\n"
          ]
        },
        {
          "output_type": "stream",
          "name": "stderr",
          "text": [
            "Train: 100%|██████████| 14/14 [00:36<00:00,  2.64s/it, accuracy=0.8466, loss=0.3906]\n",
            "Valid: 100%|██████████| 2/2 [00:05<00:00,  2.85s/it, accuracy=0.8864, loss=0.2759]\n"
          ]
        },
        {
          "output_type": "stream",
          "name": "stdout",
          "text": [
            "Train: Accuracy=0.835 Loss=0.420, Valid: Accuracy=0.860 Loss=0.336\n",
            "チェックポイント保存: epoch 80\n",
            "---------------------\n",
            "Epoch 81/90\n"
          ]
        },
        {
          "output_type": "stream",
          "name": "stderr",
          "text": [
            "Train: 100%|██████████| 14/14 [00:36<00:00,  2.61s/it, accuracy=0.8239, loss=0.4303]\n",
            "Valid: 100%|██████████| 2/2 [00:05<00:00,  2.77s/it, accuracy=0.8920, loss=0.2543]\n"
          ]
        },
        {
          "output_type": "stream",
          "name": "stdout",
          "text": [
            "Train: Accuracy=0.838 Loss=0.414, Valid: Accuracy=0.871 Loss=0.307\n",
            "---------------------\n",
            "Epoch 82/90\n"
          ]
        },
        {
          "output_type": "stream",
          "name": "stderr",
          "text": [
            "Train: 100%|██████████| 14/14 [00:36<00:00,  2.60s/it, accuracy=0.8864, loss=0.2855]\n",
            "Valid: 100%|██████████| 2/2 [00:05<00:00,  2.74s/it, accuracy=0.8977, loss=0.2697]\n"
          ]
        },
        {
          "output_type": "stream",
          "name": "stdout",
          "text": [
            "Train: Accuracy=0.850 Loss=0.394, Valid: Accuracy=0.869 Loss=0.338\n",
            "---------------------\n",
            "Epoch 83/90\n"
          ]
        },
        {
          "output_type": "stream",
          "name": "stderr",
          "text": [
            "Train: 100%|██████████| 14/14 [00:36<00:00,  2.61s/it, accuracy=0.8807, loss=0.3732]\n",
            "Valid: 100%|██████████| 2/2 [00:05<00:00,  2.74s/it, accuracy=0.8807, loss=0.2838]\n"
          ]
        },
        {
          "output_type": "stream",
          "name": "stdout",
          "text": [
            "Train: Accuracy=0.844 Loss=0.404, Valid: Accuracy=0.871 Loss=0.327\n",
            "---------------------\n",
            "Epoch 84/90\n"
          ]
        },
        {
          "output_type": "stream",
          "name": "stderr",
          "text": [
            "Train: 100%|██████████| 14/14 [00:37<00:00,  2.64s/it, accuracy=0.8466, loss=0.3632]\n",
            "Valid: 100%|██████████| 2/2 [00:05<00:00,  2.72s/it, accuracy=0.8693, loss=0.3466]\n"
          ]
        },
        {
          "output_type": "stream",
          "name": "stdout",
          "text": [
            "Train: Accuracy=0.839 Loss=0.402, Valid: Accuracy=0.847 Loss=0.374\n",
            "---------------------\n",
            "Epoch 85/90\n"
          ]
        },
        {
          "output_type": "stream",
          "name": "stderr",
          "text": [
            "Train: 100%|██████████| 14/14 [00:36<00:00,  2.59s/it, accuracy=0.8466, loss=0.4219]\n",
            "Valid: 100%|██████████| 2/2 [00:05<00:00,  2.65s/it, accuracy=0.8636, loss=0.3393]\n"
          ]
        },
        {
          "output_type": "stream",
          "name": "stdout",
          "text": [
            "Train: Accuracy=0.838 Loss=0.416, Valid: Accuracy=0.837 Loss=0.383\n",
            "---------------------\n",
            "Epoch 86/90\n"
          ]
        },
        {
          "output_type": "stream",
          "name": "stderr",
          "text": [
            "Train: 100%|██████████| 14/14 [00:36<00:00,  2.58s/it, accuracy=0.8239, loss=0.3840]\n",
            "Valid: 100%|██████████| 2/2 [00:04<00:00,  2.34s/it, accuracy=0.8864, loss=0.3033]\n"
          ]
        },
        {
          "output_type": "stream",
          "name": "stdout",
          "text": [
            "Train: Accuracy=0.843 Loss=0.401, Valid: Accuracy=0.848 Loss=0.361\n",
            "---------------------\n",
            "Epoch 87/90\n"
          ]
        },
        {
          "output_type": "stream",
          "name": "stderr",
          "text": [
            "Train: 100%|██████████| 14/14 [00:36<00:00,  2.63s/it, accuracy=0.8864, loss=0.3148]\n",
            "Valid: 100%|██████████| 2/2 [00:04<00:00,  2.36s/it, accuracy=0.9034, loss=0.3243]\n"
          ]
        },
        {
          "output_type": "stream",
          "name": "stdout",
          "text": [
            "Train: Accuracy=0.847 Loss=0.400, Valid: Accuracy=0.856 Loss=0.366\n",
            "---------------------\n",
            "Epoch 88/90\n"
          ]
        },
        {
          "output_type": "stream",
          "name": "stderr",
          "text": [
            "Train: 100%|██████████| 14/14 [00:37<00:00,  2.68s/it, accuracy=0.8466, loss=0.3733]\n",
            "Valid: 100%|██████████| 2/2 [00:04<00:00,  2.25s/it, accuracy=0.8409, loss=0.3551]\n"
          ]
        },
        {
          "output_type": "stream",
          "name": "stdout",
          "text": [
            "Train: Accuracy=0.846 Loss=0.395, Valid: Accuracy=0.839 Loss=0.375\n",
            "---------------------\n",
            "Epoch 89/90\n"
          ]
        },
        {
          "output_type": "stream",
          "name": "stderr",
          "text": [
            "Train: 100%|██████████| 14/14 [00:37<00:00,  2.65s/it, accuracy=0.8807, loss=0.3527]\n",
            "Valid: 100%|██████████| 2/2 [00:04<00:00,  2.06s/it, accuracy=0.8864, loss=0.2875]\n"
          ]
        },
        {
          "output_type": "stream",
          "name": "stdout",
          "text": [
            "Train: Accuracy=0.850 Loss=0.386, Valid: Accuracy=0.871 Loss=0.328\n",
            "---------------------\n",
            "Epoch 90/90\n"
          ]
        },
        {
          "output_type": "stream",
          "name": "stderr",
          "text": [
            "Train: 100%|██████████| 14/14 [00:37<00:00,  2.69s/it, accuracy=0.8239, loss=0.4098]\n",
            "Valid: 100%|██████████| 2/2 [00:04<00:00,  2.05s/it, accuracy=0.9034, loss=0.2728]"
          ]
        },
        {
          "output_type": "stream",
          "name": "stdout",
          "text": [
            "Train: Accuracy=0.852 Loss=0.387, Valid: Accuracy=0.852 Loss=0.340\n",
            "---------------------\n",
            "学習完了！\n"
          ]
        },
        {
          "output_type": "stream",
          "name": "stderr",
          "text": [
            "\n"
          ]
        }
      ]
    },
    {
      "cell_type": "markdown",
      "metadata": {
        "id": "77tsvYTj_MjF"
      },
      "source": [
        "### Learning Curves\n",
        "\n",
        "Let's visualize the accuracy and the loss curves for training and validation data."
      ]
    },
    {
      "cell_type": "code",
      "metadata": {
        "id": "r41u3qmIig-t",
        "colab": {
          "base_uri": "https://localhost:8080/",
          "height": 329
        },
        "outputId": "95100f95-3557-41ac-ee6c-b676c6ca6128"
      },
      "source": [
        "plt.figure(figsize=(5, 3))\n",
        "plt.rcParams[\"font.size\"]=10\n",
        "plt.plot(np.arange(epochs)+1, train_accuracy_list, label=\"train\")\n",
        "plt.plot(np.arange(epochs)+1, valid_accuracy_list, label=\"valid\")\n",
        "plt.xlabel(\"Epoch\")\n",
        "plt.ylabel(\"Accuracy\")\n",
        "plt.grid()\n",
        "plt.legend()"
      ],
      "execution_count": null,
      "outputs": [
        {
          "output_type": "execute_result",
          "data": {
            "text/plain": [
              "<matplotlib.legend.Legend at 0x79c399103f50>"
            ]
          },
          "metadata": {},
          "execution_count": 21
        },
        {
          "output_type": "display_data",
          "data": {
            "text/plain": [
              "<Figure size 500x300 with 1 Axes>"
            ],
            "image/png": "[encoded data removed]"
          },
          "metadata": {}
        }
      ]
    },
    {
      "cell_type": "code",
      "metadata": {
        "id": "gEfROle1leF7",
        "colab": {
          "base_uri": "https://localhost:8080/",
          "height": 329
        },
        "outputId": "dbd6f571-7b80-4c95-f3a2-6d9f636eeba6"
      },
      "source": [
        "plt.figure(figsize=(5, 3))\n",
        "plt.plot(np.arange(epochs)+1, train_loss_list, label=\"train\")\n",
        "plt.plot(np.arange(epochs)+1, valid_loss_list, label=\"valid\")\n",
        "plt.xlabel(\"Epoch\")\n",
        "plt.ylabel(\"Loss\")\n",
        "plt.grid()\n",
        "plt.legend()"
      ],
      "execution_count": null,
      "outputs": [
        {
          "output_type": "execute_result",
          "data": {
            "text/plain": [
              "<matplotlib.legend.Legend at 0x79c398d6d6a0>"
            ]
          },
          "metadata": {},
          "execution_count": 22
        },
        {
          "output_type": "display_data",
          "data": {
            "text/plain": [
              "<Figure size 500x300 with 1 Axes>"
            ],
            "image/png": "[encoded data removed]"
          },
          "metadata": {}
        }
      ]
    },
    {
      "cell_type": "markdown",
      "metadata": {
        "id": "J8ZFVnL7-l4_"
      },
      "source": [
        "## Make Submission File"
      ]
    },
    {
      "cell_type": "code",
      "metadata": {
        "id": "Ku9zaCDxuk05",
        "colab": {
          "base_uri": "https://localhost:8080/",
          "height": 442
        },
        "outputId": "5f6e7712-ac97-4145-ecaf-48f108267b9a"
      },
      "source": [
        "###################################\n",
        "##  DO NOT CHANGE THE CODE HERE  ##\n",
        "###################################\n",
        "\n",
        "p_label_all = np.array([])\n",
        "\n",
        "with torch.no_grad():\n",
        "    model.eval()\n",
        "\n",
        "    for x_batch, y_batch in test_loader:\n",
        "        x_batch = x_batch.to(device)\n",
        "        y_batch = y_batch.to(device)\n",
        "        p_batch = model(x_batch)\n",
        "        p_batch_label = torch.argmax(p_batch, dim=1)\n",
        "        p_label_all = np.append(p_label_all, p_batch_label.to(\"cpu\").numpy())\n",
        "\n",
        "p_label_all = p_label_all.astype(\"uint8\")\n",
        "print(p_label_all)\n",
        "\n",
        "df_submit = pd.DataFrame()\n",
        "df_submit[\"ID\"] = np.arange(len(test_dataset))\n",
        "df_submit[\"Target\"] = p_label_all\n",
        "\n",
        "df_submit.to_csv(\"your_submission.csv\", index = False)\n",
        "\n",
        "df_submit"
      ],
      "execution_count": null,
      "outputs": [
        {
          "output_type": "stream",
          "name": "stdout",
          "text": [
            "[1 2 2 ... 2 2 0]\n"
          ]
        },
        {
          "output_type": "execute_result",
          "data": {
            "text/plain": [
              "        ID  Target\n",
              "0        0       1\n",
              "1        1       2\n",
              "2        2       2\n",
              "3        3       0\n",
              "4        4       0\n",
              "...    ...     ...\n",
              "4174  4174       2\n",
              "4175  4175       1\n",
              "4176  4176       2\n",
              "4177  4177       2\n",
              "4178  4178       0\n",
              "\n",
              "[4179 rows x 2 columns]"
            ],
            "text/html": [
              "\n",
              "  <div id=\"df-b08a6eeb-b583-4d60-9594-9616acce25ff\" class=\"colab-df-container\">\n",
              "    <div>\n",
              "<style scoped>\n",
              "    .dataframe tbody tr th:only-of-type {\n",
              "        vertical-align: middle;\n",
              "    }\n",
              "\n",
              "    .dataframe tbody tr th {\n",
              "        vertical-align: top;\n",
              "    }\n",
              "\n",
              "    .dataframe thead th {\n",
              "        text-align: right;\n",
              "    }\n",
              "</style>\n",
              "<table border=\"1\" class=\"dataframe\">\n",
              "  <thead>\n",
              "    <tr style=\"text-align: right;\">\n",
              "      <th></th>\n",
              "      <th>ID</th>\n",
              "      <th>Target</th>\n",
              "    </tr>\n",
              "  </thead>\n",
              "  <tbody>\n",
              "    <tr>\n",
              "      <th>0</th>\n",
              "      <td>0</td>\n",
              "      <td>1</td>\n",
              "    </tr>\n",
              "    <tr>\n",
              "      <th>1</th>\n",
              "      <td>1</td>\n",
              "      <td>2</td>\n",
              "    </tr>\n",
              "    <tr>\n",
              "      <th>2</th>\n",
              "      <td>2</td>\n",
              "      <td>2</td>\n",
              "    </tr>\n",
              "    <tr>\n",
              "      <th>3</th>\n",
              "      <td>3</td>\n",
              "      <td>0</td>\n",
              "    </tr>\n",
              "    <tr>\n",
              "      <th>4</th>\n",
              "      <td>4</td>\n",
              "      <td>0</td>\n",
              "    </tr>\n",
              "    <tr>\n",
              "      <th>...</th>\n",
              "      <td>...</td>\n",
              "      <td>...</td>\n",
              "    </tr>\n",
              "    <tr>\n",
              "      <th>4174</th>\n",
              "      <td>4174</td>\n",
              "      <td>2</td>\n",
              "    </tr>\n",
              "    <tr>\n",
              "      <th>4175</th>\n",
              "      <td>4175</td>\n",
              "      <td>1</td>\n",
              "    </tr>\n",
              "    <tr>\n",
              "      <th>4176</th>\n",
              "      <td>4176</td>\n",
              "      <td>2</td>\n",
              "    </tr>\n",
              "    <tr>\n",
              "      <th>4177</th>\n",
              "      <td>4177</td>\n",
              "      <td>2</td>\n",
              "    </tr>\n",
              "    <tr>\n",
              "      <th>4178</th>\n",
              "      <td>4178</td>\n",
              "      <td>0</td>\n",
              "    </tr>\n",
              "  </tbody>\n",
              "</table>\n",
              "<p>4179 rows × 2 columns</p>\n",
              "</div>\n",
              "    <div class=\"colab-df-buttons\">\n",
              "\n",
              "  <div class=\"colab-df-container\">\n",
              "    <button class=\"colab-df-convert\" onclick=\"convertToInteractive('df-b08a6eeb-b583-4d60-9594-9616acce25ff')\"\n",
              "            title=\"Convert this dataframe to an interactive table.\"\n",
              "            style=\"display:none;\">\n",
              "\n",
              "  <svg xmlns=\"http://www.w3.org/2000/svg\" height=\"24px\" viewBox=\"0 -960 960 960\">\n",
              "    <path d=\"M120-120v-720h720v720H120Zm60-500h600v-160H180v160Zm220 220h160v-160H400v160Zm0 220h160v-160H400v160ZM180-400h160v-160H180v160Zm440 0h160v-160H620v160ZM180-180h160v-160H180v160Zm440 0h160v-160H620v160Z\"/>\n",
              "  </svg>\n",
              "    </button>\n",
              "\n",
              "  <style>\n",
              "    .colab-df-container {\n",
              "      display:flex;\n",
              "      gap: 12px;\n",
              "    }\n",
              "\n",
              "    .colab-df-convert {\n",
              "      background-color: #E8F0FE;\n",
              "      border: none;\n",
              "      border-radius: 50%;\n",
              "      cursor: pointer;\n",
              "      display: none;\n",
              "      fill: #1967D2;\n",
              "      height: 32px;\n",
              "      padding: 0 0 0 0;\n",
              "      width: 32px;\n",
              "    }\n",
              "\n",
              "    .colab-df-convert:hover {\n",
              "      background-color: #E2EBFA;\n",
              "      box-shadow: 0px 1px 2px rgba(60, 64, 67, 0.3), 0px 1px 3px 1px rgba(60, 64, 67, 0.15);\n",
              "      fill: #174EA6;\n",
              "    }\n",
              "\n",
              "    .colab-df-buttons div {\n",
              "      margin-bottom: 4px;\n",
              "    }\n",
              "\n",
              "    [theme=dark] .colab-df-convert {\n",
              "      background-color: #3B4455;\n",
              "      fill: #D2E3FC;\n",
              "    }\n",
              "\n",
              "    [theme=dark] .colab-df-convert:hover {\n",
              "      background-color: #434B5C;\n",
              "      box-shadow: 0px 1px 3px 1px rgba(0, 0, 0, 0.15);\n",
              "      filter: drop-shadow(0px 1px 2px rgba(0, 0, 0, 0.3));\n",
              "      fill: #FFFFFF;\n",
              "    }\n",
              "  </style>\n",
              "\n",
              "    <script>\n",
              "      const buttonEl =\n",
              "        document.querySelector('#df-b08a6eeb-b583-4d60-9594-9616acce25ff button.colab-df-convert');\n",
              "      buttonEl.style.display =\n",
              "        google.colab.kernel.accessAllowed ? 'block' : 'none';\n",
              "\n",
              "      async function convertToInteractive(key) {\n",
              "        const element = document.querySelector('#df-b08a6eeb-b583-4d60-9594-9616acce25ff');\n",
              "        const dataTable =\n",
              "          await google.colab.kernel.invokeFunction('convertToInteractive',\n",
              "                                                    [key], {});\n",
              "        if (!dataTable) return;\n",
              "\n",
              "        const docLinkHtml = 'Like what you see? Visit the ' +\n",
              "          '<a target=\"_blank\" href=https://colab.research.google.com/notebooks/data_table.ipynb>data table notebook</a>'\n",
              "          + ' to learn more about interactive tables.';\n",
              "        element.innerHTML = '';\n",
              "        dataTable['output_type'] = 'display_data';\n",
              "        await google.colab.output.renderOutput(dataTable, element);\n",
              "        const docLink = document.createElement('div');\n",
              "        docLink.innerHTML = docLinkHtml;\n",
              "        element.appendChild(docLink);\n",
              "      }\n",
              "    </script>\n",
              "  </div>\n",
              "\n",
              "\n",
              "    <div id=\"df-5d3f3579-69d7-473a-bd95-a2a0b2b207ca\">\n",
              "      <button class=\"colab-df-quickchart\" onclick=\"quickchart('df-5d3f3579-69d7-473a-bd95-a2a0b2b207ca')\"\n",
              "                title=\"Suggest charts\"\n",
              "                style=\"display:none;\">\n",
              "\n",
              "<svg xmlns=\"http://www.w3.org/2000/svg\" height=\"24px\"viewBox=\"0 0 24 24\"\n",
              "     width=\"24px\">\n",
              "    <g>\n",
              "        <path d=\"M19 3H5c-1.1 0-2 .9-2 2v14c0 1.1.9 2 2 2h14c1.1 0 2-.9 2-2V5c0-1.1-.9-2-2-2zM9 17H7v-7h2v7zm4 0h-2V7h2v10zm4 0h-2v-4h2v4z\"/>\n",
              "    </g>\n",
              "</svg>\n",
              "      </button>\n",
              "\n",
              "<style>\n",
              "  .colab-df-quickchart {\n",
              "      --bg-color: #E8F0FE;\n",
              "      --fill-color: #1967D2;\n",
              "      --hover-bg-color: #E2EBFA;\n",
              "      --hover-fill-color: #174EA6;\n",
              "      --disabled-fill-color: #AAA;\n",
              "      --disabled-bg-color: #DDD;\n",
              "  }\n",
              "\n",
              "  [theme=dark] .colab-df-quickchart {\n",
              "      --bg-color: #3B4455;\n",
              "      --fill-color: #D2E3FC;\n",
              "      --hover-bg-color: #434B5C;\n",
              "      --hover-fill-color: #FFFFFF;\n",
              "      --disabled-bg-color: #3B4455;\n",
              "      --disabled-fill-color: #666;\n",
              "  }\n",
              "\n",
              "  .colab-df-quickchart {\n",
              "    background-color: var(--bg-color);\n",
              "    border: none;\n",
              "    border-radius: 50%;\n",
              "    cursor: pointer;\n",
              "    display: none;\n",
              "    fill: var(--fill-color);\n",
              "    height: 32px;\n",
              "    padding: 0;\n",
              "    width: 32px;\n",
              "  }\n",
              "\n",
              "  .colab-df-quickchart:hover {\n",
              "    background-color: var(--hover-bg-color);\n",
              "    box-shadow: 0 1px 2px rgba(60, 64, 67, 0.3), 0 1px 3px 1px rgba(60, 64, 67, 0.15);\n",
              "    fill: var(--button-hover-fill-color);\n",
              "  }\n",
              "\n",
              "  .colab-df-quickchart-complete:disabled,\n",
              "  .colab-df-quickchart-complete:disabled:hover {\n",
              "    background-color: var(--disabled-bg-color);\n",
              "    fill: var(--disabled-fill-color);\n",
              "    box-shadow: none;\n",
              "  }\n",
              "\n",
              "  .colab-df-spinner {\n",
              "    border: 2px solid var(--fill-color);\n",
              "    border-color: transparent;\n",
              "    border-bottom-color: var(--fill-color);\n",
              "    animation:\n",
              "      spin 1s steps(1) infinite;\n",
              "  }\n",
              "\n",
              "  @keyframes spin {\n",
              "    0% {\n",
              "      border-color: transparent;\n",
              "      border-bottom-color: var(--fill-color);\n",
              "      border-left-color: var(--fill-color);\n",
              "    }\n",
              "    20% {\n",
              "      border-color: transparent;\n",
              "      border-left-color: var(--fill-color);\n",
              "      border-top-color: var(--fill-color);\n",
              "    }\n",
              "    30% {\n",
              "      border-color: transparent;\n",
              "      border-left-color: var(--fill-color);\n",
              "      border-top-color: var(--fill-color);\n",
              "      border-right-color: var(--fill-color);\n",
              "    }\n",
              "    40% {\n",
              "      border-color: transparent;\n",
              "      border-right-color: var(--fill-color);\n",
              "      border-top-color: var(--fill-color);\n",
              "    }\n",
              "    60% {\n",
              "      border-color: transparent;\n",
              "      border-right-color: var(--fill-color);\n",
              "    }\n",
              "    80% {\n",
              "      border-color: transparent;\n",
              "      border-right-color: var(--fill-color);\n",
              "      border-bottom-color: var(--fill-color);\n",
              "    }\n",
              "    90% {\n",
              "      border-color: transparent;\n",
              "      border-bottom-color: var(--fill-color);\n",
              "    }\n",
              "  }\n",
              "</style>\n",
              "\n",
              "      <script>\n",
              "        async function quickchart(key) {\n",
              "          const quickchartButtonEl =\n",
              "            document.querySelector('#' + key + ' button');\n",
              "          quickchartButtonEl.disabled = true;  // To prevent multiple clicks.\n",
              "          quickchartButtonEl.classList.add('colab-df-spinner');\n",
              "          try {\n",
              "            const charts = await google.colab.kernel.invokeFunction(\n",
              "                'suggestCharts', [key], {});\n",
              "          } catch (error) {\n",
              "            console.error('Error during call to suggestCharts:', error);\n",
              "          }\n",
              "          quickchartButtonEl.classList.remove('colab-df-spinner');\n",
              "          quickchartButtonEl.classList.add('colab-df-quickchart-complete');\n",
              "        }\n",
              "        (() => {\n",
              "          let quickchartButtonEl =\n",
              "            document.querySelector('#df-5d3f3579-69d7-473a-bd95-a2a0b2b207ca button');\n",
              "          quickchartButtonEl.style.display =\n",
              "            google.colab.kernel.accessAllowed ? 'block' : 'none';\n",
              "        })();\n",
              "      </script>\n",
              "    </div>\n",
              "\n",
              "  <div id=\"id_fc377dbb-469c-46d3-9ed3-4f7e32322aed\">\n",
              "    <style>\n",
              "      .colab-df-generate {\n",
              "        background-color: #E8F0FE;\n",
              "        border: none;\n",
              "        border-radius: 50%;\n",
              "        cursor: pointer;\n",
              "        display: none;\n",
              "        fill: #1967D2;\n",
              "        height: 32px;\n",
              "        padding: 0 0 0 0;\n",
              "        width: 32px;\n",
              "      }\n",
              "\n",
              "      .colab-df-generate:hover {\n",
              "        background-color: #E2EBFA;\n",
              "        box-shadow: 0px 1px 2px rgba(60, 64, 67, 0.3), 0px 1px 3px 1px rgba(60, 64, 67, 0.15);\n",
              "        fill: #174EA6;\n",
              "      }\n",
              "\n",
              "      [theme=dark] .colab-df-generate {\n",
              "        background-color: #3B4455;\n",
              "        fill: #D2E3FC;\n",
              "      }\n",
              "\n",
              "      [theme=dark] .colab-df-generate:hover {\n",
              "        background-color: #434B5C;\n",
              "        box-shadow: 0px 1px 3px 1px rgba(0, 0, 0, 0.15);\n",
              "        filter: drop-shadow(0px 1px 2px rgba(0, 0, 0, 0.3));\n",
              "        fill: #FFFFFF;\n",
              "      }\n",
              "    </style>\n",
              "    <button class=\"colab-df-generate\" onclick=\"generateWithVariable('df_submit')\"\n",
              "            title=\"Generate code using this dataframe.\"\n",
              "            style=\"display:none;\">\n",
              "\n",
              "  <svg xmlns=\"http://www.w3.org/2000/svg\" height=\"24px\"viewBox=\"0 0 24 24\"\n",
              "       width=\"24px\">\n",
              "    <path d=\"M7,19H8.4L18.45,9,17,7.55,7,17.6ZM5,21V16.75L18.45,3.32a2,2,0,0,1,2.83,0l1.4,1.43a1.91,1.91,0,0,1,.58,1.4,1.91,1.91,0,0,1-.58,1.4L9.25,21ZM18.45,9,17,7.55Zm-12,3A5.31,5.31,0,0,0,4.9,8.1,5.31,5.31,0,0,0,1,6.5,5.31,5.31,0,0,0,4.9,4.9,5.31,5.31,0,0,0,6.5,1,5.31,5.31,0,0,0,8.1,4.9,5.31,5.31,0,0,0,12,6.5,5.46,5.46,0,0,0,6.5,12Z\"/>\n",
              "  </svg>\n",
              "    </button>\n",
              "    <script>\n",
              "      (() => {\n",
              "      const buttonEl =\n",
              "        document.querySelector('#id_fc377dbb-469c-46d3-9ed3-4f7e32322aed button.colab-df-generate');\n",
              "      buttonEl.style.display =\n",
              "        google.colab.kernel.accessAllowed ? 'block' : 'none';\n",
              "\n",
              "      buttonEl.onclick = () => {\n",
              "        google.colab.notebook.generateWithVariable('df_submit');\n",
              "      }\n",
              "      })();\n",
              "    </script>\n",
              "  </div>\n",
              "\n",
              "    </div>\n",
              "  </div>\n"
            ],
            "application/vnd.google.colaboratory.intrinsic+json": {
              "type": "dataframe",
              "variable_name": "df_submit",
              "summary": "{\n  \"name\": \"df_submit\",\n  \"rows\": 4179,\n  \"fields\": [\n    {\n      \"column\": \"ID\",\n      \"properties\": {\n        \"dtype\": \"number\",\n        \"std\": 1206,\n        \"min\": 0,\n        \"max\": 4178,\n        \"num_unique_values\": 4179,\n        \"samples\": [\n          1263,\n          1163,\n          2259\n        ],\n        \"semantic_type\": \"\",\n        \"description\": \"\"\n      }\n    },\n    {\n      \"column\": \"Target\",\n      \"properties\": {\n        \"dtype\": \"uint8\",\n        \"num_unique_values\": 3,\n        \"samples\": [\n          1,\n          2,\n          0\n        ],\n        \"semantic_type\": \"\",\n        \"description\": \"\"\n      }\n    }\n  ]\n}"
            }
          },
          "metadata": {},
          "execution_count": 23
        }
      ]
    },
    {
      "cell_type": "markdown",
      "source": [
        "### Submition from Kaggle\n",
        "You can now download `your_submission.csv` file from the 'Files' tab, and proceed to submit it on our competition page on Kaggle"
      ],
      "metadata": {
        "id": "g7S7GE2dMfS4"
      }
    },
    {
      "cell_type": "markdown",
      "metadata": {
        "id": "wke7cdi2fVBZ"
      },
      "source": [
        "## Conclusion"
      ]
    },
    {
      "cell_type": "markdown",
      "metadata": {
        "id": "bBKeg1o-fWd5"
      },
      "source": [
        "That's it for this week. Try your best for the image classification competition!"
      ]
    }
  ]
}